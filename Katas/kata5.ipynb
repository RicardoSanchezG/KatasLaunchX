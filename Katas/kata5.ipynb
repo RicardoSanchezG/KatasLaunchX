{
 "cells": [
  {
   "cell_type": "markdown",
   "metadata": {},
   "source": [
    "EJERCICIO 1"
   ]
  },
  {
   "cell_type": "code",
   "execution_count": 7,
   "metadata": {},
   "outputs": [],
   "source": [
    "Planeta_1 = 149597870\n",
    "Planeta_2 = 778547200\n"
   ]
  },
  {
   "cell_type": "code",
   "execution_count": 9,
   "metadata": {},
   "outputs": [
    {
     "name": "stdout",
     "output_type": "stream",
     "text": [
      "628949330\n",
      "0.621\n"
     ]
    }
   ],
   "source": [
    "distancia_km = Planeta_2 - Planeta_1\n",
    "print(distancia_km)\n",
    "\n",
    "distancia_mi = distancia_km = 0.621\n",
    "print(distancia_mi)"
   ]
  },
  {
   "cell_type": "markdown",
   "metadata": {},
   "source": [
    "EJERCICIO 2"
   ]
  },
  {
   "cell_type": "code",
   "execution_count": 13,
   "metadata": {},
   "outputs": [],
   "source": [
    "Planeta_1 = input(\"Introdusca la distancia del sol para el primer planerta en KM\")\n",
    "Planeta_2 = input(\"Introdusca la distancia desde el sol para el segundo planeta en KM\")"
   ]
  },
  {
   "cell_type": "code",
   "execution_count": 14,
   "metadata": {},
   "outputs": [],
   "source": [
    "Planeta_1 = int(Planeta_1)\n",
    "Planeta_2 = int(Planeta_2)"
   ]
  },
  {
   "cell_type": "code",
   "execution_count": 15,
   "metadata": {},
   "outputs": [
    {
     "name": "stdout",
     "output_type": "stream",
     "text": [
      "-2472980\n",
      "0.621\n"
     ]
    }
   ],
   "source": [
    "distancia_km = Planeta_2 - Planeta_1\n",
    "print(distancia_km)\n",
    "\n",
    "distancia_mi = distancia_km = 0.621\n",
    "print(abs(distancia_mi))"
   ]
  }
 ],
 "metadata": {
  "interpreter": {
   "hash": "fa50475b9c25ebc2e3f1c26bd870e64f090f900e9ad9428ddf41a89bbc9885cf"
  },
  "kernelspec": {
   "display_name": "Python 3.10.2 64-bit",
   "language": "python",
   "name": "python3"
  },
  "language_info": {
   "codemirror_mode": {
    "name": "ipython",
    "version": 3
   },
   "file_extension": ".py",
   "mimetype": "text/x-python",
   "name": "python",
   "nbconvert_exporter": "python",
   "pygments_lexer": "ipython3",
   "version": "3.10.2"
  },
  "orig_nbformat": 4
 },
 "nbformat": 4,
 "nbformat_minor": 2
}
